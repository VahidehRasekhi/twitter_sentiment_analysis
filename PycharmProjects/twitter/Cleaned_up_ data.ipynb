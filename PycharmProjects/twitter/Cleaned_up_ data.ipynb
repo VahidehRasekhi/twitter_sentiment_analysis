{
 "cells": [
  {
   "cell_type": "code",
   "execution_count": null,
   "id": "ad3ef8cf",
   "metadata": {},
   "outputs": [],
   "source": [
    "#loading libraries \n",
    "import pandas as pd\n",
    "import numpy as np\n",
    "import time\n",
    "import tweepy\n",
    "import re\n",
    "import json\n",
    "import os "
   ]
  },
  {
   "cell_type": "code",
   "execution_count": null,
   "id": "912f3d9a",
   "metadata": {},
   "outputs": [],
   "source": [
    "#gives us the files in the directory \n",
    "directory= '.'\n",
    "for filename in os.listdir(directory):\n",
    "    print(os.path.join(directory, filename))"
   ]
  },
  {
   "cell_type": "code",
   "execution_count": null,
   "id": "588ee477",
   "metadata": {},
   "outputs": [],
   "source": [
    "#gives us the files in the directory that end with .json\n",
    "directory= '.'\n",
    "for filename in os.listdir(directory):\n",
    "    if filename.endswith(\".json\"):\n",
    "        print(os.path.join(directory, filename))"
   ]
  },
  {
   "cell_type": "code",
   "execution_count": null,
   "id": "3d5705c1",
   "metadata": {},
   "outputs": [],
   "source": [
    "#read the json files and append them \n",
    "directory= '.'\n",
    "covid=pd.DataFrame()\n",
    "\n",
    "for filename in os.listdir(directory):\n",
    "    if filename.endswith(\".json\"):\n",
    "        #address=os.path.join(directory, filename)\n",
    "        with open(filename, 'r') as myfile:\n",
    "            file=myfile.read()\n",
    "            obj=json.loads(file)\n",
    "            covid=covid.append(pd.DataFrame(obj))\n",
    "        "
   ]
  },
  {
   "cell_type": "code",
   "execution_count": null,
   "id": "84f888ad",
   "metadata": {},
   "outputs": [],
   "source": [
    "#save the file into one json file \n",
    "covid.to_json('./covid_tweets_clean.json', orient='records')"
   ]
  },
  {
   "cell_type": "code",
   "execution_count": null,
   "id": "36b92ae8",
   "metadata": {},
   "outputs": [],
   "source": [
    "with open('covid_tweets_clean.json', 'r') as myfile:\n",
    "    data=myfile.read()\n",
    "    \n",
    "obj= json.loads(data)\n",
    "covid_tweets_clean=pd.DataFrame(obj)"
   ]
  },
  {
   "cell_type": "code",
   "execution_count": null,
   "id": "8ef1a526",
   "metadata": {},
   "outputs": [],
   "source": [
    "#covid_tweets_clean.head()\n",
    "#covid_tweets_clean.info()"
   ]
  },
  {
   "cell_type": "code",
   "execution_count": null,
   "id": "145fa54f",
   "metadata": {},
   "outputs": [],
   "source": [
    "#cleaning the tweets\n",
    "def remove_pattern(input_txt, pattern):\n",
    "    r = re.findall(pattern, input_txt)\n",
    "    for i in r:\n",
    "        input_txt = re.sub(i, '', input_txt)        \n",
    "    return input_txt\n",
    "def clean_tweets(tweets):\n",
    "    #remove twitter Return handles (RT @xxx:)\n",
    "    tweets = np.vectorize(remove_pattern)(tweets, \"RT @[\\w]*:\") \n",
    "    \n",
    "    #remove twitter handles (@xxx)\n",
    "    tweets = np.vectorize(remove_pattern)(tweets, \"@[\\w]*\")\n",
    "    \n",
    "    #remove URL links (httpxxx)\n",
    "    tweets = np.vectorize(remove_pattern)(tweets, \"https?://[A-Za-z0-9./]*\")\n",
    "    \n",
    "    #remove special characters, numbers, punctuations (except for #)\n",
    "    tweets = np.core.defchararray.replace(tweets, \"[^a-zA-Z]\", \" \")\n",
    "    \n",
    "    \n",
    "    return tweets"
   ]
  },
  {
   "cell_type": "code",
   "execution_count": null,
   "id": "ac41584c",
   "metadata": {},
   "outputs": [],
   "source": [
    "#give us the cleaned up tweets\n",
    "covid_tweets_clean['text'] = clean_tweets(covid_tweets_clean['text'])\n",
    "covid_tweets_clean.head()"
   ]
  },
  {
   "cell_type": "code",
   "execution_count": null,
   "id": "26a2f669",
   "metadata": {},
   "outputs": [],
   "source": [
    "#get rid of qoutation marks \n",
    "covid_tweets_clean['location']= covid_tweets_clean['location'].str.replace('\"', '')"
   ]
  },
  {
   "cell_type": "code",
   "execution_count": null,
   "id": "8b22096a",
   "metadata": {},
   "outputs": [],
   "source": [
    "#replace 'united states' with 'usa' just to be consistent \n",
    "covid_tweets_clean['location']=covid_tweets_clean['location'].str.replace('United States', 'USA')"
   ]
  }
 ],
 "metadata": {
  "kernelspec": {
   "display_name": "Python 3",
   "language": "python",
   "name": "python3"
  },
  "language_info": {
   "codemirror_mode": {
    "name": "ipython",
    "version": 3
   },
   "file_extension": ".py",
   "mimetype": "text/x-python",
   "name": "python",
   "nbconvert_exporter": "python",
   "pygments_lexer": "ipython3",
   "version": "3.8.8"
  }
 },
 "nbformat": 4,
 "nbformat_minor": 5
}
