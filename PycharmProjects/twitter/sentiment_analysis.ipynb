{
 "cells": [
  {
   "cell_type": "code",
   "execution_count": 6,
   "id": "ad3ef8cf",
   "metadata": {},
   "outputs": [],
   "source": [
    "import pandas as pd\n",
    "import numpy as np\n",
    "import matplotlib.pyplot as plt\n",
    "import time\n",
    "import tweepy\n",
    "import re\n",
    "import json\n",
    "import os "
   ]
  },
  {
   "cell_type": "code",
   "execution_count": 7,
   "id": "f422827a",
   "metadata": {},
   "outputs": [],
   "source": [
    "from vaderSentiment.vaderSentiment import SentimentIntensityAnalyzer\n",
    "analyzer = SentimentIntensityAnalyzer()"
   ]
  },
  {
   "cell_type": "code",
   "execution_count": 8,
   "id": "4f0b4aab",
   "metadata": {},
   "outputs": [],
   "source": [
    "covid_tweets_clean= pd.read_json('covid_tweets_clean.json')"
   ]
  },
  {
   "cell_type": "code",
   "execution_count": 4,
   "id": "19f7d7c6",
   "metadata": {},
   "outputs": [
    {
     "name": "stdout",
     "output_type": "stream",
     "text": [
      "<class 'pandas.core.frame.DataFrame'>\n",
      "RangeIndex: 10001862 entries, 0 to 10001861\n",
      "Data columns (total 2 columns):\n",
      " #   Column    Dtype \n",
      "---  ------    ----- \n",
      " 0   text      object\n",
      " 1   location  object\n",
      "dtypes: object(2)\n",
      "memory usage: 152.6+ MB\n"
     ]
    }
   ],
   "source": [
    "covid_tweets_clean.info()"
   ]
  },
  {
   "cell_type": "code",
   "execution_count": 9,
   "id": "35fbb9c1",
   "metadata": {},
   "outputs": [
    {
     "data": {
      "text/plain": [
       "512706"
      ]
     },
     "execution_count": 9,
     "metadata": {},
     "output_type": "execute_result"
    }
   ],
   "source": [
    "#number of unique locations \n",
    "covid_tweets_clean['location'].nunique()"
   ]
  },
  {
   "cell_type": "code",
   "execution_count": null,
   "id": "b90ab877",
   "metadata": {},
   "outputs": [],
   "source": [
    "#top 40 locations \n",
    "covid_tweets_clean['location'].value_counts().head(40)"
   ]
  },
  {
   "cell_type": "code",
   "execution_count": 12,
   "id": "326b11cf",
   "metadata": {},
   "outputs": [],
   "source": [
    "scores = []\n",
    "# Declare variables for scores\n",
    "compound_list = []\n",
    "positive_list = []\n",
    "negative_list = []\n",
    "neutral_list = []\n",
    "for i in range(covid_tweets_clean['text'].shape[0]):\n",
    "#print(analyser.polarity_scores(sentiments_pd['text'][i]))\n",
    "    compound = analyzer.polarity_scores(covid_tweets_clean['text'][i])[\"compound\"]\n",
    "    pos = analyzer.polarity_scores(covid_tweets_clean['text'][i])[\"pos\"]\n",
    "    neu = analyzer.polarity_scores(covid_tweets_clean['text'][i])[\"neu\"]\n",
    "    neg = analyzer.polarity_scores(covid_tweets_clean['text'][i])[\"neg\"]\n",
    "    \n",
    "    scores.append({\"Compound\": compound,\n",
    "                       \"Positive\": pos,\n",
    "                       \"Negative\": neg,\n",
    "                       \"Neutral\": neu\n",
    "                  })"
   ]
  },
  {
   "cell_type": "code",
   "execution_count": 14,
   "id": "eeaef9fc",
   "metadata": {},
   "outputs": [],
   "source": [
    "sentiments_score = pd.DataFrame.from_dict(scores)"
   ]
  },
  {
   "cell_type": "code",
   "execution_count": 15,
   "id": "c935e23b",
   "metadata": {},
   "outputs": [
    {
     "data": {
      "text/html": [
       "<div>\n",
       "<style scoped>\n",
       "    .dataframe tbody tr th:only-of-type {\n",
       "        vertical-align: middle;\n",
       "    }\n",
       "\n",
       "    .dataframe tbody tr th {\n",
       "        vertical-align: top;\n",
       "    }\n",
       "\n",
       "    .dataframe thead th {\n",
       "        text-align: right;\n",
       "    }\n",
       "</style>\n",
       "<table border=\"1\" class=\"dataframe\">\n",
       "  <thead>\n",
       "    <tr style=\"text-align: right;\">\n",
       "      <th></th>\n",
       "      <th>text</th>\n",
       "      <th>location</th>\n",
       "      <th>Compound</th>\n",
       "      <th>Positive</th>\n",
       "      <th>Negative</th>\n",
       "      <th>Neutral</th>\n",
       "    </tr>\n",
       "  </thead>\n",
       "  <tbody>\n",
       "    <tr>\n",
       "      <th>0</th>\n",
       "      <td>They said ain\\\\u2019t no way covid still 19 t...</td>\n",
       "      <td>New York</td>\n",
       "      <td>-0.2960</td>\n",
       "      <td>0.000</td>\n",
       "      <td>0.145</td>\n",
       "      <td>0.855</td>\n",
       "    </tr>\n",
       "    <tr>\n",
       "      <th>1</th>\n",
       "      <td>I\\\\u2019ve just tested positive for Covid wha...</td>\n",
       "      <td>Slidell</td>\n",
       "      <td>0.6072</td>\n",
       "      <td>0.265</td>\n",
       "      <td>0.000</td>\n",
       "      <td>0.735</td>\n",
       "    </tr>\n",
       "    <tr>\n",
       "      <th>2</th>\n",
       "      <td>The coronavirus has messed up even more and al...</td>\n",
       "      <td>null</td>\n",
       "      <td>-0.6548</td>\n",
       "      <td>0.000</td>\n",
       "      <td>0.349</td>\n",
       "      <td>0.651</td>\n",
       "    </tr>\n",
       "    <tr>\n",
       "      <th>3</th>\n",
       "      <td>How he had a load of conspiracy nuts on string...</td>\n",
       "      <td>Bristol</td>\n",
       "      <td>-0.6908</td>\n",
       "      <td>0.000</td>\n",
       "      <td>0.305</td>\n",
       "      <td>0.695</td>\n",
       "    </tr>\n",
       "    <tr>\n",
       "      <th>4</th>\n",
       "      <td>But this might work  and if it does we can el...</td>\n",
       "      <td>Gold Coast</td>\n",
       "      <td>-0.8720</td>\n",
       "      <td>0.000</td>\n",
       "      <td>0.357</td>\n",
       "      <td>0.643</td>\n",
       "    </tr>\n",
       "  </tbody>\n",
       "</table>\n",
       "</div>"
      ],
      "text/plain": [
       "                                                text    location  Compound  \\\n",
       "0   They said ain\\\\u2019t no way covid still 19 t...    New York   -0.2960   \n",
       "1   I\\\\u2019ve just tested positive for Covid wha...     Slidell    0.6072   \n",
       "2  The coronavirus has messed up even more and al...        null   -0.6548   \n",
       "3  How he had a load of conspiracy nuts on string...     Bristol   -0.6908   \n",
       "4   But this might work  and if it does we can el...  Gold Coast   -0.8720   \n",
       "\n",
       "   Positive  Negative  Neutral  \n",
       "0     0.000     0.145    0.855  \n",
       "1     0.265     0.000    0.735  \n",
       "2     0.000     0.349    0.651  \n",
       "3     0.000     0.305    0.695  \n",
       "4     0.000     0.357    0.643  "
      ]
     },
     "execution_count": 15,
     "metadata": {},
     "output_type": "execute_result"
    }
   ],
   "source": [
    "covid_tweets_sentiment = covid_tweets_clean.join(sentiments_score)\n",
    "covid_tweets_sentiment.head()"
   ]
  },
  {
   "cell_type": "code",
   "execution_count": 17,
   "id": "99b582a3",
   "metadata": {
    "scrolled": true
   },
   "outputs": [
    {
     "data": {
      "text/html": [
       "<div>\n",
       "<style scoped>\n",
       "    .dataframe tbody tr th:only-of-type {\n",
       "        vertical-align: middle;\n",
       "    }\n",
       "\n",
       "    .dataframe tbody tr th {\n",
       "        vertical-align: top;\n",
       "    }\n",
       "\n",
       "    .dataframe thead th {\n",
       "        text-align: right;\n",
       "    }\n",
       "</style>\n",
       "<table border=\"1\" class=\"dataframe\">\n",
       "  <thead>\n",
       "    <tr style=\"text-align: right;\">\n",
       "      <th></th>\n",
       "      <th>text</th>\n",
       "      <th>location</th>\n",
       "      <th>Compound</th>\n",
       "      <th>Positive</th>\n",
       "      <th>Negative</th>\n",
       "      <th>Neutral</th>\n",
       "      <th>Compound_sentiment</th>\n",
       "    </tr>\n",
       "  </thead>\n",
       "  <tbody>\n",
       "    <tr>\n",
       "      <th>0</th>\n",
       "      <td>They said ain\\\\u2019t no way covid still 19 t...</td>\n",
       "      <td>New York</td>\n",
       "      <td>-0.2960</td>\n",
       "      <td>0.000</td>\n",
       "      <td>0.145</td>\n",
       "      <td>0.855</td>\n",
       "      <td>neg</td>\n",
       "    </tr>\n",
       "    <tr>\n",
       "      <th>1</th>\n",
       "      <td>I\\\\u2019ve just tested positive for Covid wha...</td>\n",
       "      <td>Slidell</td>\n",
       "      <td>0.6072</td>\n",
       "      <td>0.265</td>\n",
       "      <td>0.000</td>\n",
       "      <td>0.735</td>\n",
       "      <td>pos</td>\n",
       "    </tr>\n",
       "    <tr>\n",
       "      <th>2</th>\n",
       "      <td>The coronavirus has messed up even more and al...</td>\n",
       "      <td>null</td>\n",
       "      <td>-0.6548</td>\n",
       "      <td>0.000</td>\n",
       "      <td>0.349</td>\n",
       "      <td>0.651</td>\n",
       "      <td>neg</td>\n",
       "    </tr>\n",
       "    <tr>\n",
       "      <th>3</th>\n",
       "      <td>How he had a load of conspiracy nuts on string...</td>\n",
       "      <td>Bristol</td>\n",
       "      <td>-0.6908</td>\n",
       "      <td>0.000</td>\n",
       "      <td>0.305</td>\n",
       "      <td>0.695</td>\n",
       "      <td>neg</td>\n",
       "    </tr>\n",
       "    <tr>\n",
       "      <th>4</th>\n",
       "      <td>But this might work  and if it does we can el...</td>\n",
       "      <td>Gold Coast</td>\n",
       "      <td>-0.8720</td>\n",
       "      <td>0.000</td>\n",
       "      <td>0.357</td>\n",
       "      <td>0.643</td>\n",
       "      <td>neg</td>\n",
       "    </tr>\n",
       "  </tbody>\n",
       "</table>\n",
       "</div>"
      ],
      "text/plain": [
       "                                                text    location  Compound  \\\n",
       "0   They said ain\\\\u2019t no way covid still 19 t...    New York   -0.2960   \n",
       "1   I\\\\u2019ve just tested positive for Covid wha...     Slidell    0.6072   \n",
       "2  The coronavirus has messed up even more and al...        null   -0.6548   \n",
       "3  How he had a load of conspiracy nuts on string...     Bristol   -0.6908   \n",
       "4   But this might work  and if it does we can el...  Gold Coast   -0.8720   \n",
       "\n",
       "   Positive  Negative  Neutral Compound_sentiment  \n",
       "0     0.000     0.145    0.855                neg  \n",
       "1     0.265     0.000    0.735                pos  \n",
       "2     0.000     0.349    0.651                neg  \n",
       "3     0.000     0.305    0.695                neg  \n",
       "4     0.000     0.357    0.643                neg  "
      ]
     },
     "execution_count": 17,
     "metadata": {},
     "output_type": "execute_result"
    }
   ],
   "source": [
    "covid_tweets_sentiment['Compound_sentiment'] = covid_tweets_sentiment['Compound'].apply(lambda c: 'pos' if c >=0 else 'neg')\n",
    "\n",
    "covid_tweets_sentiment.head()"
   ]
  },
  {
   "cell_type": "code",
   "execution_count": 18,
   "id": "a45d7ca4",
   "metadata": {},
   "outputs": [],
   "source": [
    "#save the file into one json file \n",
    "covid_tweets_sentiment.to_json('./covid_tweets_sentiment.json', orient='records')"
   ]
  },
  {
   "cell_type": "code",
   "execution_count": null,
   "id": "547fc54b",
   "metadata": {},
   "outputs": [],
   "source": []
  }
 ],
 "metadata": {
  "kernelspec": {
   "display_name": "Python 3",
   "language": "python",
   "name": "python3"
  },
  "language_info": {
   "codemirror_mode": {
    "name": "ipython",
    "version": 3
   },
   "file_extension": ".py",
   "mimetype": "text/x-python",
   "name": "python",
   "nbconvert_exporter": "python",
   "pygments_lexer": "ipython3",
   "version": "3.8.8"
  }
 },
 "nbformat": 4,
 "nbformat_minor": 5
}
